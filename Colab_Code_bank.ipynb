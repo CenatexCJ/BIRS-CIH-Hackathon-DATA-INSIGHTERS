{
  "nbformat": 4,
  "nbformat_minor": 0,
  "metadata": {
    "colab": {
      "name": "Code_bank.ipynb",
      "provenance": [],
      "collapsed_sections": []
    },
    "kernelspec": {
      "name": "python3",
      "display_name": "Python 3"
    },
    "language_info": {
      "name": "python"
    }
  },
  "cells": [
    {
      "cell_type": "markdown",
      "metadata": {
        "id": "Gy9X1VY7T1mM"
      },
      "source": [
        "Importing Libraries"
      ]
    },
    {
      "cell_type": "code",
      "metadata": {
        "id": "owCWs3oiT7Ef"
      },
      "source": [
        "import numpy as np # data pre-processing\n",
        "\n",
        "import seaborn as sns\n",
        "import matplotlib.pyplot as plt\n",
        "import plotly.express as px # data visualization\n",
        "import requests\n",
        "import pandas as pd\n",
        "\n",
        "from os import path\n",
        "from PIL import Image\n",
        "from wordcloud import WordCloud, STOPWORDS, ImageColorGenerator\n",
        "import matplotlib.pyplot as plt\n",
        "%matplotlib inline"
      ],
      "execution_count": null,
      "outputs": []
    },
    {
      "cell_type": "markdown",
      "metadata": {
        "id": "8GD7wjVMUCyJ"
      },
      "source": [
        "Importing Federal Legislation Data"
      ]
    },
    {
      "cell_type": "code",
      "metadata": {
        "id": "vk9RDPCPUHn2"
      },
      "source": [
        "url = \"https://goverlytics.p.rapidapi.com/federal-legislation/ca?page=1\"\n",
        "querystring = {\"include_summary\":\"true\",\"include_text\":\"true\",\"include_actions\":\"true\",\"include_votes\":\"true\"}\n",
        "headers = {\n",
        "    'x-rapidapi-host': \"goverlytics.p.rapidapi.com\",\n",
        "    'x-rapidapi-key': \"9683493469msh237d2eccd560f26p17fef0jsn788326025e1f\"\n",
        "    }\n",
        "response = requests.request(\"GET\", url, headers=headers, params=querystring)\n",
        "fed_Legislation_json = response.json()\n",
        "fed_Legislation_dic = dict(fed_Legislation_json)\n",
        "fed_Legislation_df = pd.json_normalize(fed_Legislation_json['data'])\n",
        "fed_Legislation_table = fed_Legislation_df\n",
        "fed_Legislation_dic['pagination']['next_url']\n",
        "url_0 = \"https://goverlytics.p.rapidapi.com/federal-legislation/ca?page=\"\n",
        "page_num = 2\n",
        "while fed_Legislation_dic['pagination']['next_url']:\n",
        "    new_url = url_0 + str(page_num)\n",
        "    page_num += 1\n",
        "    response = requests.request(\"GET\", new_url, headers=headers, params=querystring)\n",
        "    fed_Legislation_json = response.json()\n",
        "    fed_Legislation_dic = dict(fed_Legislation_json)\n",
        "    fed_Legislation_df = pd.json_normalize(fed_Legislation_json['data'])\n",
        "    fed_Legislation_table = fed_Legislation_table.append(fed_Legislation_df, ignore_index=True)"
      ],
      "execution_count": null,
      "outputs": []
    },
    {
      "cell_type": "markdown",
      "metadata": {
        "id": "X2q93diXUcKI"
      },
      "source": [
        "Importing Federal Legislator Data"
      ]
    },
    {
      "cell_type": "code",
      "metadata": {
        "id": "szjir06mUfZy"
      },
      "source": [
        "url = \"https://goverlytics.p.rapidapi.com/federal-legislators/ca?page=1\"\n",
        "querystring = {\"include_summary\":\"true\",\"include_text\":\"true\",\"include_actions\":\"true\",\"include_votes\":\"true\"}\n",
        "headers = {\n",
        "    'x-rapidapi-host': \"goverlytics.p.rapidapi.com\",\n",
        "    'x-rapidapi-key': \"9683493469msh237d2eccd560f26p17fef0jsn788326025e1f\"\n",
        "    }\n",
        "response = requests.request(\"GET\", url, headers=headers, params=querystring)\n",
        "fed_Legislators_json = response.json()\n",
        "fed_Legislators_dic = dict(fed_Legislators_json)\n",
        "fed_Legislators_df = pd.json_normalize(fed_Legislators_json['data'])\n",
        "fed_Legislators_table = fed_Legislators_df\n",
        "fed_Legislators_dic['pagination']['next_url']\n",
        "url_0 = \"https://goverlytics.p.rapidapi.com/federal-legislators/ca?page=\"\n",
        "page_num = 2\n",
        "while fed_Legislators_dic['pagination']['next_url']:\n",
        "    new_url = url_0 + str(page_num)\n",
        "    page_num += 1\n",
        "    response = requests.request(\"GET\", new_url, headers=headers, params=querystring)\n",
        "    fed_Legislators_json = response.json()\n",
        "    fed_Legislators_dic = dict(fed_Legislators_json)\n",
        "    fed_Legislators_df = pd.json_normalize(fed_Legislators_json['data'])\n",
        "    fed_Legislators_table = fed_Legislators_table.append(fed_Legislators_df, ignore_index=True)"
      ],
      "execution_count": null,
      "outputs": []
    },
    {
      "cell_type": "markdown",
      "metadata": {
        "id": "P0ehgZbVU2e6"
      },
      "source": [
        "Importing Ontario Legislation Data"
      ]
    },
    {
      "cell_type": "code",
      "metadata": {
        "id": "hGt6-WT6U66z"
      },
      "source": [
        "url = \"https://goverlytics.p.rapidapi.com/division-legislation/ca/on?page=1\"\n",
        "querystring = {\"include_summary\":\"true\",\"include_text\":\"true\",\"include_actions\":\"true\",\"include_votes\":\"true\"}\n",
        "headers = {\n",
        "    'x-rapidapi-host': \"goverlytics.p.rapidapi.com\",\n",
        "    'x-rapidapi-key': \"9683493469msh237d2eccd560f26p17fef0jsn788326025e1f\"\n",
        "    }\n",
        "response = requests.request(\"GET\", url, headers=headers, params=querystring)\n",
        "on_Legislation_json = response.json()\n",
        "on_Legislation_dic = dict(on_Legislation_json)\n",
        "on_Legislation_df = pd.json_normalize(on_Legislation_json['data'])\n",
        "on_Legislation_table = on_Legislation_df\n",
        "on_Legislation_dic['pagination']['next_url']\n",
        "url_0 = \"https://goverlytics.p.rapidapi.com/division-legislation/ca/on?page=\"\n",
        "page_num = 2\n",
        "while on_Legislation_dic['pagination']['next_url']:\n",
        "    new_url = url_0 + str(page_num)\n",
        "    page_num += 1\n",
        "    response = requests.request(\"GET\", new_url, headers=headers, params=querystring)\n",
        "    on_Legislation_json = response.json()\n",
        "    on_Legislation_dic = dict(on_Legislation_json)\n",
        "    on_Legislation_df = pd.json_normalize(on_Legislation_json['data'])\n",
        "    on_Legislation_table = on_Legislation_table.append(on_Legislation_df, ignore_index=True)"
      ],
      "execution_count": null,
      "outputs": []
    },
    {
      "cell_type": "markdown",
      "metadata": {
        "id": "W8Zyzq-sVSA9"
      },
      "source": [
        "Importing Ontario Legislators Data"
      ]
    },
    {
      "cell_type": "code",
      "metadata": {
        "id": "QGfSdoRIVWoU"
      },
      "source": [
        "url = \"https://goverlytics.p.rapidapi.com/division-legislators/ca/on?page=1\"\n",
        "querystring = {\"include_summary\":\"true\",\"include_text\":\"true\",\"include_actions\":\"true\",\"include_votes\":\"true\"}\n",
        "headers = {\n",
        "    'x-rapidapi-host': \"goverlytics.p.rapidapi.com\",\n",
        "    'x-rapidapi-key': \"9683493469msh237d2eccd560f26p17fef0jsn788326025e1f\"\n",
        "    }\n",
        "response = requests.request(\"GET\", url, headers=headers, params=querystring)\n",
        "on_Legislators_json = response.json()\n",
        "on_Legislators_dic = dict(on_Legislators_json)\n",
        "on_Legislators_df = pd.json_normalize(on_Legislators_json['data'])\n",
        "on_Legislators_table = on_Legislators_df\n",
        "on_Legislators_dic['pagination']['next_url']\n",
        "url_0 = \"https://goverlytics.p.rapidapi.com/division-legislators/ca/on?page=\"\n",
        "page_num = 2\n",
        "while on_Legislators_dic['pagination']['next_url']:\n",
        "    new_url = url_0 + str(page_num)\n",
        "    page_num += 1\n",
        "    response = requests.request(\"GET\", new_url, headers=headers, params=querystring)\n",
        "    on_Legislators_json = response.json()\n",
        "    on_Legislators_dic = dict(on_Legislators_json)\n",
        "    on_Legislators_df = pd.json_normalize(on_Legislators_json['data'])\n",
        "    on_Legislators_table = on_Legislators_table.append(on_Legislators_df, ignore_index=True)\n"
      ],
      "execution_count": null,
      "outputs": []
    },
    {
      "cell_type": "markdown",
      "metadata": {
        "id": "WW0-INT7V9On"
      },
      "source": [
        "Importing Quebec Legislation Data"
      ]
    },
    {
      "cell_type": "code",
      "metadata": {
        "id": "eavMnelkWUv_"
      },
      "source": [
        "url = \"https://goverlytics.p.rapidapi.com/division-legislation/ca/qc?page=1\"\n",
        "querystring = {\"include_summary\":\"true\",\"include_text\":\"true\",\"include_actions\":\"true\",\"include_votes\":\"true\"}\n",
        "headers = {\n",
        "    'x-rapidapi-host': \"goverlytics.p.rapidapi.com\",\n",
        "    'x-rapidapi-key': \"9683493469msh237d2eccd560f26p17fef0jsn788326025e1f\"\n",
        "    }\n",
        "response = requests.request(\"GET\", url, headers=headers, params=querystring)\n",
        "qc_Legislation_json = response.json()\n",
        "qc_Legislation_dic = dict(qc_Legislation_json)\n",
        "qc_Legislation_df = pd.json_normalize(qc_Legislation_json['data'])\n",
        "qc_Legislation_table = qc_Legislation_df\n",
        "qc_Legislation_dic['pagination']['next_url']\n",
        "url_0 = \"https://goverlytics.p.rapidapi.com/division-legislation/ca/qc?page=\"\n",
        "page_num = 2\n",
        "while qc_Legislation_dic['pagination']['next_url']:\n",
        "    new_url = url_0 + str(page_num)\n",
        "    page_num += 1\n",
        "    response = requests.request(\"GET\", new_url, headers=headers, params=querystring)\n",
        "    qc_Legislation_json = response.json()\n",
        "    qc_Legislation_dic = dict(qc_Legislation_json)\n",
        "    qc_Legislation_df = pd.json_normalize(qc_Legislation_json['data'])\n",
        "    qc_Legislation_table = qc_Legislation_table.append(qc_Legislation_df, ignore_index=True)"
      ],
      "execution_count": null,
      "outputs": []
    },
    {
      "cell_type": "markdown",
      "metadata": {
        "id": "MggPhWESWr_8"
      },
      "source": [
        "Importing Quebec Legislators Data"
      ]
    },
    {
      "cell_type": "code",
      "metadata": {
        "id": "PgWJcM9BWvXJ"
      },
      "source": [
        "url = \"https://goverlytics.p.rapidapi.com/division-legislators/ca/qc?page=1\"\n",
        "querystring = {\"include_summary\":\"true\",\"include_text\":\"true\",\"include_actions\":\"true\",\"include_votes\":\"true\"}\n",
        "headers = {\n",
        "    'x-rapidapi-host': \"goverlytics.p.rapidapi.com\",\n",
        "    'x-rapidapi-key': \"9683493469msh237d2eccd560f26p17fef0jsn788326025e1f\"\n",
        "    }\n",
        "response = requests.request(\"GET\", url, headers=headers, params=querystring)\n",
        "qc_Legislators_json = response.json()\n",
        "qc_Legislators_dic = dict(qc_Legislators_json)\n",
        "qc_Legislators_df = pd.json_normalize(qc_Legislators_json['data'])\n",
        "qc_Legislators_table = qc_Legislators_df\n",
        "qc_Legislators_dic['pagination']['next_url']\n",
        "url_0 = \"https://goverlytics.p.rapidapi.com/division-legislators/ca/qc?page=\"\n",
        "page_num = 2\n",
        "while qc_Legislators_dic['pagination']['next_url']:\n",
        "    new_url = url_0 + str(page_num)\n",
        "    page_num += 1\n",
        "    response = requests.request(\"GET\", new_url, headers=headers, params=querystring)\n",
        "    qc_Legislators_json = response.json()\n",
        "    qc_Legislators_dic = dict(qc_Legislators_json)\n",
        "    qc_Legislators_df = pd.json_normalize(qc_Legislators_json['data'])\n",
        "    qc_Legislators_table = qc_Legislators_table.append(qc_Legislators_df, ignore_index=True)"
      ],
      "execution_count": null,
      "outputs": []
    },
    {
      "cell_type": "markdown",
      "metadata": {
        "id": "KQ31cPi7XLza"
      },
      "source": [
        "Importing BC Legislation Data"
      ]
    },
    {
      "cell_type": "code",
      "metadata": {
        "id": "Wy-yYM-zXRHo"
      },
      "source": [
        "url = \"https://goverlytics.p.rapidapi.com/division-legislation/ca/bc?page=1\"\n",
        "querystring = {\"include_summary\":\"true\",\"include_text\":\"true\",\"include_actions\":\"true\",\"include_votes\":\"true\"}\n",
        "headers = {\n",
        "    'x-rapidapi-host': \"goverlytics.p.rapidapi.com\",\n",
        "    'x-rapidapi-key': \"9683493469msh237d2eccd560f26p17fef0jsn788326025e1f\"\n",
        "    }\n",
        "response = requests.request(\"GET\", url, headers=headers, params=querystring)\n",
        "bc_Legislation_json = response.json()\n",
        "bc_Legislation_dic = dict(bc_Legislation_json)\n",
        "bc_Legislation_df = pd.json_normalize(bc_Legislation_json['data'])\n",
        "bc_Legislation_table = bc_Legislation_df\n",
        "bc_Legislation_dic['pagination']['next_url']\n",
        "url_0 = \"https://goverlytics.p.rapidapi.com/division-legislation/ca/bc?page=\"\n",
        "page_num = 2\n",
        "while bc_Legislation_dic['pagination']['next_url']:\n",
        "    new_url = url_0 + str(page_num)\n",
        "    page_num += 1\n",
        "    response = requests.request(\"GET\", new_url, headers=headers, params=querystring)\n",
        "    bc_Legislation_json = response.json()\n",
        "    bc_Legislation_dic = dict(bc_Legislation_json)\n",
        "    bc_Legislation_df = pd.json_normalize(bc_Legislation_json['data'])\n",
        "    bc_Legislation_table = bc_Legislation_table.append(bc_Legislation_df, ignore_index=True)"
      ],
      "execution_count": null,
      "outputs": []
    },
    {
      "cell_type": "markdown",
      "metadata": {
        "id": "1rRIhFlYXafh"
      },
      "source": [
        "Importing BC Legislators Data"
      ]
    },
    {
      "cell_type": "code",
      "metadata": {
        "id": "2PYzV8e3Xd77"
      },
      "source": [
        "url = \"https://goverlytics.p.rapidapi.com/division-legislators/ca/bc?page=1\"\n",
        "querystring = {\"include_summary\":\"true\",\"include_text\":\"true\",\"include_actions\":\"true\",\"include_votes\":\"true\"}\n",
        "headers = {\n",
        "    'x-rapidapi-host': \"goverlytics.p.rapidapi.com\",\n",
        "    'x-rapidapi-key': \"9683493469msh237d2eccd560f26p17fef0jsn788326025e1f\"\n",
        "    }\n",
        "response = requests.request(\"GET\", url, headers=headers, params=querystring)\n",
        "bc_Legislators_json = response.json()\n",
        "bc_Legislators_dic = dict(bc_Legislators_json)\n",
        "bc_Legislators_df = pd.json_normalize(bc_Legislators_json['data'])\n",
        "bc_Legislators_table = bc_Legislators_df\n",
        "bc_Legislators_dic['pagination']['next_url']\n",
        "url_0 = \"https://goverlytics.p.rapidapi.com/division-legislators/ca/bc?page=\"\n",
        "page_num = 2\n",
        "while bc_Legislators_dic['pagination']['next_url']:\n",
        "    new_url = url_0 + str(page_num)\n",
        "    page_num += 1\n",
        "    response = requests.request(\"GET\", new_url, headers=headers, params=querystring)\n",
        "    bc_Legislators_json = response.json()\n",
        "    bc_Legislators_dic = dict(bc_Legislators_json)\n",
        "    bc_Legislators_df = pd.json_normalize(bc_Legislators_json['data'])\n",
        "    bc_Legislators_table = bc_Legislators_table.append(bc_Legislators_df, ignore_index=True)"
      ],
      "execution_count": null,
      "outputs": []
    },
    {
      "cell_type": "markdown",
      "metadata": {
        "id": "1-4CGKDpXrKE"
      },
      "source": [
        "Importing AB Legislation Data"
      ]
    },
    {
      "cell_type": "code",
      "metadata": {
        "id": "Qk_qFeWTXt2R"
      },
      "source": [
        "url = \"https://goverlytics.p.rapidapi.com/division-legislation/ca/ab?page=1\"\n",
        "querystring = {\"include_summary\":\"true\",\"include_text\":\"true\",\"include_actions\":\"true\",\"include_votes\":\"true\"}\n",
        "headers = {\n",
        "    'x-rapidapi-host': \"goverlytics.p.rapidapi.com\",\n",
        "    'x-rapidapi-key': \"9683493469msh237d2eccd560f26p17fef0jsn788326025e1f\"\n",
        "    }\n",
        "response = requests.request(\"GET\", url, headers=headers, params=querystring)\n",
        "ab_Legislation_json = response.json()\n",
        "ab_Legislation_dic = dict(ab_Legislation_json)\n",
        "ab_Legislation_df = pd.json_normalize(ab_Legislation_json['data'])\n",
        "ab_Legislation_table = ab_Legislation_df\n",
        "ab_Legislation_dic['pagination']['next_url']\n",
        "url_0 = \"https://goverlytics.p.rapidapi.com/division-legislation/ca/ab?page=\"\n",
        "page_num = 2\n",
        "while ab_Legislation_dic['pagination']['next_url']:\n",
        "    new_url = url_0 + str(page_num)\n",
        "    page_num += 1\n",
        "    response = requests.request(\"GET\", new_url, headers=headers, params=querystring)\n",
        "    ab_Legislation_json = response.json()\n",
        "    ab_Legislation_dic = dict(ab_Legislation_json)\n",
        "    ab_Legislation_df = pd.json_normalize(ab_Legislation_json['data'])\n",
        "    ab_Legislation_table = ab_Legislation_table.append(ab_Legislation_df, ignore_index=True)"
      ],
      "execution_count": null,
      "outputs": []
    },
    {
      "cell_type": "markdown",
      "metadata": {
        "id": "yu_RPRpvX2Ni"
      },
      "source": [
        "Importing AB Legislator Data"
      ]
    },
    {
      "cell_type": "code",
      "metadata": {
        "id": "VzCqGfpAX6XQ"
      },
      "source": [
        "url = \"https://goverlytics.p.rapidapi.com/division-legislators/ca/ab?page=1\"\n",
        "querystring = {\"include_summary\":\"true\",\"include_text\":\"true\",\"include_actions\":\"true\",\"include_votes\":\"true\"}\n",
        "headers = {\n",
        "    'x-rapidapi-host': \"goverlytics.p.rapidapi.com\",\n",
        "    'x-rapidapi-key': \"9683493469msh237d2eccd560f26p17fef0jsn788326025e1f\"\n",
        "    }\n",
        "response = requests.request(\"GET\", url, headers=headers, params=querystring)\n",
        "ab_Legislators_json = response.json()\n",
        "ab_Legislators_dic = dict(ab_Legislators_json)\n",
        "ab_Legislators_df = pd.json_normalize(ab_Legislators_json['data'])\n",
        "ab_Legislators_table = ab_Legislators_df\n",
        "ab_Legislators_dic['pagination']['next_url']\n",
        "url_0 = \"https://goverlytics.p.rapidapi.com/division-legislators/ca/ab?page=\"\n",
        "page_num = 2\n",
        "while ab_Legislators_dic['pagination']['next_url']:\n",
        "    new_url = url_0 + str(page_num)\n",
        "    page_num += 1\n",
        "    response = requests.request(\"GET\", new_url, headers=headers, params=querystring)\n",
        "    ab_Legislators_json = response.json()\n",
        "    ab_Legislators_dic = dict(ab_Legislators_json)\n",
        "    ab_Legislators_df = pd.json_normalize(ab_Legislators_json['data'])\n",
        "    ab_Legislators_table = ab_Legislators_table.append(ab_Legislators_df, ignore_index=True)"
      ],
      "execution_count": null,
      "outputs": []
    },
    {
      "cell_type": "markdown",
      "metadata": {
        "id": "0JIVbZI3X_rB"
      },
      "source": [
        "Importing MB Legislation Data"
      ]
    },
    {
      "cell_type": "code",
      "metadata": {
        "id": "aOYCbrFVYFq5"
      },
      "source": [
        "url = \"https://goverlytics.p.rapidapi.com/division-legislation/ca/mb?page=1\"\n",
        "querystring = {\"include_summary\":\"true\",\"include_text\":\"true\",\"include_actions\":\"true\",\"include_votes\":\"true\"}\n",
        "headers = {\n",
        "    'x-rapidapi-host': \"goverlytics.p.rapidapi.com\",\n",
        "    'x-rapidapi-key': \"9683493469msh237d2eccd560f26p17fef0jsn788326025e1f\"\n",
        "    }\n",
        "response = requests.request(\"GET\", url, headers=headers, params=querystring)\n",
        "mb_Legislation_json = response.json()\n",
        "mb_Legislation_dic = dict(mb_Legislation_json)\n",
        "mb_Legislation_df = pd.json_normalize(mb_Legislation_json['data'])\n",
        "mb_Legislation_table = mb_Legislation_df\n",
        "mb_Legislation_dic['pagination']['next_url']\n",
        "url_0 = \"https://goverlytics.p.rapidapi.com/division-legislation/ca/mb?page=\"\n",
        "page_num = 2\n",
        "while mb_Legislation_dic['pagination']['next_url']:\n",
        "    new_url = url_0 + str(page_num)\n",
        "    page_num += 1\n",
        "    response = requests.request(\"GET\", new_url, headers=headers, params=querystring)\n",
        "    mb_Legislation_json = response.json()\n",
        "    mb_Legislation_dic = dict(mb_Legislation_json)\n",
        "    mb_Legislation_df = pd.json_normalize(mb_Legislation_json['data'])\n",
        "    mb_Legislation_table = mb_Legislation_table.append(mb_Legislation_df, ignore_index=True)\n"
      ],
      "execution_count": null,
      "outputs": []
    },
    {
      "cell_type": "markdown",
      "metadata": {
        "id": "dXXkKJQqYcDS"
      },
      "source": [
        "Importing MB Legislators Data"
      ]
    },
    {
      "cell_type": "code",
      "metadata": {
        "id": "kIzZol9TYfTv"
      },
      "source": [
        "url = \"https://goverlytics.p.rapidapi.com/division-legislators/ca/mb?page=1\"\n",
        "querystring = {\"include_summary\":\"true\",\"include_text\":\"true\",\"include_actions\":\"true\",\"include_votes\":\"true\"}\n",
        "headers = {\n",
        "    'x-rapidapi-host': \"goverlytics.p.rapidapi.com\",\n",
        "    'x-rapidapi-key': \"9683493469msh237d2eccd560f26p17fef0jsn788326025e1f\"\n",
        "    }\n",
        "response = requests.request(\"GET\", url, headers=headers, params=querystring)\n",
        "mb_Legislators_json = response.json()\n",
        "mb_Legislators_dic = dict(mb_Legislators_json)\n",
        "mb_Legislators_df = pd.json_normalize(mb_Legislators_json['data'])\n",
        "mb_Legislators_table = mb_Legislators_df\n",
        "mb_Legislators_dic['pagination']['next_url']\n",
        "url_0 = \"https://goverlytics.p.rapidapi.com/division-legislators/ca/mb?page=\"\n",
        "page_num = 2\n",
        "while mb_Legislators_dic['pagination']['next_url']:\n",
        "    new_url = url_0 + str(page_num)\n",
        "    page_num += 1\n",
        "    response = requests.request(\"GET\", new_url, headers=headers, params=querystring)\n",
        "    mb_Legislators_json = response.json()\n",
        "    mb_Legislators_dic = dict(mb_Legislators_json)\n",
        "    mb_Legislators_df = pd.json_normalize(mb_Legislators_json['data'])\n",
        "    mb_Legislators_table = mb_Legislators_table.append(mb_Legislators_df, ignore_index=True)"
      ],
      "execution_count": null,
      "outputs": []
    },
    {
      "cell_type": "markdown",
      "metadata": {
        "id": "gqrlrcp_ZCMy"
      },
      "source": [
        "Importing SK Legislation Data"
      ]
    },
    {
      "cell_type": "code",
      "metadata": {
        "id": "Tg3mGfjJZFDi"
      },
      "source": [
        "url = \"https://goverlytics.p.rapidapi.com/division-legislation/ca/sk?page=1\"\n",
        "querystring = {\"include_summary\":\"true\",\"include_text\":\"true\",\"include_actions\":\"true\",\"include_votes\":\"true\"}\n",
        "headers = {\n",
        "    'x-rapidapi-host': \"goverlytics.p.rapidapi.com\",\n",
        "    'x-rapidapi-key': \"9683493469msh237d2eccd560f26p17fef0jsn788326025e1f\"\n",
        "    }\n",
        "response = requests.request(\"GET\", url, headers=headers, params=querystring)\n",
        "sk_Legislation_json = response.json()\n",
        "sk_Legislation_dic = dict(sk_Legislation_json)\n",
        "sk_Legislation_df = pd.json_normalize(sk_Legislation_json['data'])\n",
        "sk_Legislation_table = sk_Legislation_df\n",
        "sk_Legislation_dic['pagination']['next_url']\n",
        "url_0 = \"https://goverlytics.p.rapidapi.com/division-legislation/ca/sk?page=\"\n",
        "page_num = 2\n",
        "while sk_Legislation_dic['pagination']['next_url']:\n",
        "    new_url = url_0 + str(page_num)\n",
        "    page_num += 1\n",
        "    response = requests.request(\"GET\", new_url, headers=headers, params=querystring)\n",
        "    sk_Legislation_json = response.json()\n",
        "    sk_Legislation_dic = dict(sk_Legislation_json)\n",
        "    sk_Legislation_df = pd.json_normalize(sk_Legislation_json['data'])\n",
        "    sk_Legislation_table = sk_Legislation_table.append(sk_Legislation_df, ignore_index=True)"
      ],
      "execution_count": null,
      "outputs": []
    },
    {
      "cell_type": "markdown",
      "metadata": {
        "id": "kWK6rskgZ1Yz"
      },
      "source": [
        "Importing SK Legislators Data"
      ]
    },
    {
      "cell_type": "code",
      "metadata": {
        "id": "ps3QTonfZ5zX"
      },
      "source": [
        "url = \"https://goverlytics.p.rapidapi.com/division-legislators/ca/sk?page=1\"\n",
        "querystring = {\"include_summary\":\"true\",\"include_text\":\"true\",\"include_actions\":\"true\",\"include_votes\":\"true\"}\n",
        "headers = {\n",
        "    'x-rapidapi-host': \"goverlytics.p.rapidapi.com\",\n",
        "    'x-rapidapi-key': \"9683493469msh237d2eccd560f26p17fef0jsn788326025e1f\"\n",
        "    }\n",
        "response = requests.request(\"GET\", url, headers=headers, params=querystring)\n",
        "sk_Legislators_json = response.json()\n",
        "sk_Legislators_dic = dict(sk_Legislators_json)\n",
        "sk_Legislators_df = pd.json_normalize(sk_Legislators_json['data'])\n",
        "sk_Legislators_table = sk_Legislators_df\n",
        "sk_Legislators_dic['pagination']['next_url']\n",
        "url_0 = \"https://goverlytics.p.rapidapi.com/division-legislators/ca/sk?page=\"\n",
        "page_num = 2\n",
        "while sk_Legislators_dic['pagination']['next_url']:\n",
        "    new_url = url_0 + str(page_num)\n",
        "    page_num += 1\n",
        "    response = requests.request(\"GET\", new_url, headers=headers, params=querystring)\n",
        "    sk_Legislators_json = response.json()\n",
        "    sk_Legislators_dic = dict(sk_Legislators_json)\n",
        "    sk_Legislators_df = pd.json_normalize(sk_Legislators_json['data'])\n",
        "    sk_Legislators_table = sk_Legislators_table.append(sk_Legislators_df, ignore_index=True)"
      ],
      "execution_count": null,
      "outputs": []
    },
    {
      "cell_type": "markdown",
      "metadata": {
        "id": "k1g5MZ4NaKoZ"
      },
      "source": [
        "Importing NB Legislation Data"
      ]
    },
    {
      "cell_type": "code",
      "metadata": {
        "id": "20KqgIOYaOoP"
      },
      "source": [
        "url = \"https://goverlytics.p.rapidapi.com/division-legislation/ca/nb?page=1\"\n",
        "querystring = {\"include_summary\":\"true\",\"include_text\":\"true\",\"include_actions\":\"true\",\"include_votes\":\"true\"}\n",
        "headers = {\n",
        "    'x-rapidapi-host': \"goverlytics.p.rapidapi.com\",\n",
        "    'x-rapidapi-key': \"9683493469msh237d2eccd560f26p17fef0jsn788326025e1f\"\n",
        "    }\n",
        "response = requests.request(\"GET\", url, headers=headers, params=querystring)\n",
        "nb_Legislation_json = response.json()\n",
        "nb_Legislation_dic = dict(nb_Legislation_json)\n",
        "nb_Legislation_df = pd.json_normalize(nb_Legislation_json['data'])\n",
        "nb_Legislation_table = nb_Legislation_df\n",
        "nb_Legislation_dic['pagination']['next_url']\n",
        "url_0 = \"https://goverlytics.p.rapidapi.com/division-legislation/ca/nb?page=\"\n",
        "page_num = 2\n",
        "while nb_Legislation_dic['pagination']['next_url']:\n",
        "    new_url = url_0 + str(page_num)\n",
        "    page_num += 1\n",
        "    response = requests.request(\"GET\", new_url, headers=headers, params=querystring)\n",
        "    nb_Legislation_json = response.json()\n",
        "    nb_Legislation_dic = dict(nb_Legislation_json)\n",
        "    nb_Legislation_df = pd.json_normalize(nb_Legislation_json['data'])\n",
        "    nb_Legislation_table = nb_Legislation_table.append(nb_Legislation_df, ignore_index=True)"
      ],
      "execution_count": null,
      "outputs": []
    },
    {
      "cell_type": "markdown",
      "metadata": {
        "id": "6EAlLJ12alhb"
      },
      "source": [
        "Importing NB Legislators Data"
      ]
    },
    {
      "cell_type": "code",
      "metadata": {
        "id": "0OnrW-6zaoHc"
      },
      "source": [
        "url = \"https://goverlytics.p.rapidapi.com/division-legislators/ca/nb?page=1\"\n",
        "querystring = {\"include_summary\":\"true\",\"include_text\":\"true\",\"include_actions\":\"true\",\"include_votes\":\"true\"}\n",
        "headers = {\n",
        "    'x-rapidapi-host': \"goverlytics.p.rapidapi.com\",\n",
        "    'x-rapidapi-key': \"9683493469msh237d2eccd560f26p17fef0jsn788326025e1f\"\n",
        "    }\n",
        "response = requests.request(\"GET\", url, headers=headers, params=querystring)\n",
        "nb_Legislators_json = response.json()\n",
        "nb_Legislators_dic = dict(nb_Legislators_json)\n",
        "nb_Legislators_df = pd.json_normalize(nb_Legislators_json['data'])\n",
        "nb_Legislators_table = nb_Legislators_df\n",
        "nb_Legislators_dic['pagination']['next_url']\n",
        "url_0 = \"https://goverlytics.p.rapidapi.com/division-legislators/ca/nb?page=\"\n",
        "page_num = 2\n",
        "while nb_Legislators_dic['pagination']['next_url']:\n",
        "    new_url = url_0 + str(page_num)\n",
        "    page_num += 1\n",
        "    response = requests.request(\"GET\", new_url, headers=headers, params=querystring)\n",
        "    nb_Legislators_json = response.json()\n",
        "    nb_Legislators_dic = dict(nb_Legislators_json)\n",
        "    nb_Legislators_df = pd.json_normalize(nb_Legislators_json['data'])\n",
        "    nb_Legislators_table = nb_Legislators_table.append(nb_Legislators_df, ignore_index=True)"
      ],
      "execution_count": null,
      "outputs": []
    },
    {
      "cell_type": "markdown",
      "metadata": {
        "id": "9Ey7owaWbALp"
      },
      "source": [
        "Importing NS Legislation Data"
      ]
    },
    {
      "cell_type": "code",
      "metadata": {
        "id": "w1OSLhDKbDtn"
      },
      "source": [
        "url = \"https://goverlytics.p.rapidapi.com/division-legislation/ca/ns?page=1\"\n",
        "querystring = {\"include_summary\":\"true\",\"include_text\":\"true\",\"include_actions\":\"true\",\"include_votes\":\"true\"}\n",
        "headers = {\n",
        "    'x-rapidapi-host': \"goverlytics.p.rapidapi.com\",\n",
        "    'x-rapidapi-key': \"9683493469msh237d2eccd560f26p17fef0jsn788326025e1f\"\n",
        "    }\n",
        "response = requests.request(\"GET\", url, headers=headers, params=querystring)\n",
        "ns_Legislation_json = response.json()\n",
        "ns_Legislation_dic = dict(ns_Legislation_json)\n",
        "ns_Legislation_df = pd.json_normalize(ns_Legislation_json['data'])\n",
        "ns_Legislation_table = ns_Legislation_df\n",
        "ns_Legislation_dic['pagination']['next_url']\n",
        "url_0 = \"https://goverlytics.p.rapidapi.com/division-legislation/ca/ns?page=\"\n",
        "page_num = 2\n",
        "while ns_Legislation_dic['pagination']['next_url']:\n",
        "    new_url = url_0 + str(page_num)\n",
        "    page_num += 1\n",
        "    response = requests.request(\"GET\", new_url, headers=headers, params=querystring)\n",
        "    ns_Legislation_json = response.json()\n",
        "    ns_Legislation_dic = dict(ns_Legislation_json)\n",
        "    ns_Legislation_df = pd.json_normalize(ns_Legislation_json['data'])\n",
        "    ns_Legislation_table = ns_Legislation_table.append(ns_Legislation_df, ignore_index=True)"
      ],
      "execution_count": null,
      "outputs": []
    },
    {
      "cell_type": "markdown",
      "metadata": {
        "id": "4h5itxOybXkZ"
      },
      "source": [
        "Importing NS Legislators Data"
      ]
    },
    {
      "cell_type": "code",
      "metadata": {
        "id": "Fj5tY8dwbbAx"
      },
      "source": [
        "url = \"https://goverlytics.p.rapidapi.com/division-legislators/ca/ns?page=1\"\n",
        "querystring = {\"include_summary\":\"true\",\"include_text\":\"true\",\"include_actions\":\"true\",\"include_votes\":\"true\"}\n",
        "headers = {\n",
        "    'x-rapidapi-host': \"goverlytics.p.rapidapi.com\",\n",
        "    'x-rapidapi-key': \"9683493469msh237d2eccd560f26p17fef0jsn788326025e1f\"\n",
        "    }\n",
        "response = requests.request(\"GET\", url, headers=headers, params=querystring)\n",
        "ns_Legislators_json = response.json()\n",
        "ns_Legislators_dic = dict(ns_Legislators_json)\n",
        "ns_Legislators_df = pd.json_normalize(ns_Legislators_json['data'])\n",
        "ns_Legislators_table = ns_Legislators_df\n",
        "ns_Legislators_dic['pagination']['next_url']\n",
        "url_0 = \"https://goverlytics.p.rapidapi.com/division-legislators/ca/ns?page=\"\n",
        "page_num = 2\n",
        "while ns_Legislators_dic['pagination']['next_url']:\n",
        "    new_url = url_0 + str(page_num)\n",
        "    page_num += 1\n",
        "    response = requests.request(\"GET\", new_url, headers=headers, params=querystring)\n",
        "    ns_Legislators_json = response.json()\n",
        "    ns_Legislators_dic = dict(ns_Legislators_json)\n",
        "    ns_Legislators_df = pd.json_normalize(ns_Legislators_json['data'])\n",
        "    ns_Legislators_table = ns_Legislators_table.append(ns_Legislators_df, ignore_index=True)"
      ],
      "execution_count": null,
      "outputs": []
    },
    {
      "cell_type": "markdown",
      "metadata": {
        "id": "U_AK0OiLbuTs"
      },
      "source": [
        "Importing NU Legislation Data"
      ]
    },
    {
      "cell_type": "code",
      "metadata": {
        "id": "3iEJXUMJbyHH"
      },
      "source": [
        "url = \"https://goverlytics.p.rapidapi.com/division-legislation/ca/nu?page=1\"\n",
        "querystring = {\"include_summary\":\"true\",\"include_text\":\"true\",\"include_actions\":\"true\",\"include_votes\":\"true\"}\n",
        "headers = {\n",
        "    'x-rapidapi-host': \"goverlytics.p.rapidapi.com\",\n",
        "    'x-rapidapi-key': \"9683493469msh237d2eccd560f26p17fef0jsn788326025e1f\"\n",
        "    }\n",
        "response = requests.request(\"GET\", url, headers=headers, params=querystring)\n",
        "nu_Legislation_json = response.json()\n",
        "nu_Legislation_dic = dict(nu_Legislation_json)\n",
        "nu_Legislation_df = pd.json_normalize(nu_Legislation_json['data'])\n",
        "nu_Legislation_table = nu_Legislation_df\n",
        "nu_Legislation_dic['pagination']['next_url']\n",
        "url_0 = \"https://goverlytics.p.rapidapi.com/division-legislation/ca/nu?page=\"\n",
        "page_num = 2\n",
        "while nu_Legislation_dic['pagination']['next_url']:\n",
        "    new_url = url_0 + str(page_num)\n",
        "    page_num += 1\n",
        "    response = requests.request(\"GET\", new_url, headers=headers, params=querystring)\n",
        "    nu_Legislation_json = response.json()\n",
        "    nu_Legislation_dic = dict(nu_Legislation_json)\n",
        "    nu_Legislation_df = pd.json_normalize(nu_Legislation_json['data'])\n",
        "    nu_Legislation_table = nu_Legislation_table.append(nu_Legislation_df, ignore_index=True)\n"
      ],
      "execution_count": null,
      "outputs": []
    },
    {
      "cell_type": "markdown",
      "metadata": {
        "id": "aUFjMhSMcCfq"
      },
      "source": [
        "Importing NU Legislators Data"
      ]
    },
    {
      "cell_type": "code",
      "metadata": {
        "id": "f4Abii40cEvn"
      },
      "source": [
        "url = \"https://goverlytics.p.rapidapi.com/division-legislators/ca/nu?page=1\"\n",
        "querystring = {\"include_summary\":\"true\",\"include_text\":\"true\",\"include_actions\":\"true\",\"include_votes\":\"true\"}\n",
        "headers = {\n",
        "    'x-rapidapi-host': \"goverlytics.p.rapidapi.com\",\n",
        "    'x-rapidapi-key': \"9683493469msh237d2eccd560f26p17fef0jsn788326025e1f\"\n",
        "    }\n",
        "response = requests.request(\"GET\", url, headers=headers, params=querystring)\n",
        "nu_Legislators_json = response.json()\n",
        "nu_Legislators_dic = dict(nu_Legislators_json)\n",
        "nu_Legislators_df = pd.json_normalize(nu_Legislators_json['data'])\n",
        "nu_Legislators_table = nu_Legislators_df\n",
        "nu_Legislators_dic['pagination']['next_url']\n",
        "url_0 = \"https://goverlytics.p.rapidapi.com/division-legislators/ca/nu?page=\"\n",
        "page_num = 2\n",
        "while nu_Legislators_dic['pagination']['next_url']:\n",
        "    new_url = url_0 + str(page_num)\n",
        "    page_num += 1\n",
        "    response = requests.request(\"GET\", new_url, headers=headers, params=querystring)\n",
        "    nu_Legislators_json = response.json()\n",
        "    nu_Legislators_dic = dict(nu_Legislators_json)\n",
        "    nu_Legislators_df = pd.json_normalize(nu_Legislators_json['data'])\n",
        "    nu_Legislators_table = nu_Legislators_table.append(nu_Legislators_df, ignore_index=True)"
      ],
      "execution_count": null,
      "outputs": []
    },
    {
      "cell_type": "markdown",
      "metadata": {
        "id": "C7yWBAVlch6i"
      },
      "source": [
        "Importing PE Legislation Data"
      ]
    },
    {
      "cell_type": "code",
      "metadata": {
        "id": "jBI_vyO3ckzl"
      },
      "source": [
        "url = \"https://goverlytics.p.rapidapi.com/division-legislation/ca/pe?page=1\"\n",
        "querystring = {\"include_summary\":\"true\",\"include_text\":\"true\",\"include_actions\":\"true\",\"include_votes\":\"true\"}\n",
        "headers = {\n",
        "    'x-rapidapi-host': \"goverlytics.p.rapidapi.com\",\n",
        "    'x-rapidapi-key': \"9683493469msh237d2eccd560f26p17fef0jsn788326025e1f\"\n",
        "    }\n",
        "response = requests.request(\"GET\", url, headers=headers, params=querystring)\n",
        "pe_Legislation_json = response.json()\n",
        "pe_Legislation_dic = dict(pe_Legislation_json)\n",
        "pe_Legislation_df = pd.json_normalize(pe_Legislation_json['data'])\n",
        "pe_Legislation_table = pe_Legislation_df\n",
        "pe_Legislation_dic['pagination']['next_url']\n",
        "url_0 = \"https://goverlytics.p.rapidapi.com/division-legislation/ca/pe?page=\"\n",
        "page_num = 2\n",
        "while pe_Legislation_dic['pagination']['next_url']:\n",
        "    new_url = url_0 + str(page_num)\n",
        "    page_num += 1\n",
        "    response = requests.request(\"GET\", new_url, headers=headers, params=querystring)\n",
        "    pe_Legislation_json = response.json()\n",
        "    pe_Legislation_dic = dict(pe_Legislation_json)\n",
        "    pe_Legislation_df = pd.json_normalize(pe_Legislation_json['data'])\n",
        "    pe_Legislation_table = pe_Legislation_table.append(pe_Legislation_df, ignore_index=True)"
      ],
      "execution_count": null,
      "outputs": []
    },
    {
      "cell_type": "markdown",
      "metadata": {
        "id": "8dg3T9Coc0fy"
      },
      "source": [
        "Importing PE Legislators Data"
      ]
    },
    {
      "cell_type": "code",
      "metadata": {
        "id": "bNJwyRdRc2w9"
      },
      "source": [
        "url = \"https://goverlytics.p.rapidapi.com/division-legislators/ca/pe?page=1\"\n",
        "querystring = {\"include_summary\":\"true\",\"include_text\":\"true\",\"include_actions\":\"true\",\"include_votes\":\"true\"}\n",
        "headers = {\n",
        "    'x-rapidapi-host': \"goverlytics.p.rapidapi.com\",\n",
        "    'x-rapidapi-key': \"9683493469msh237d2eccd560f26p17fef0jsn788326025e1f\"\n",
        "    }\n",
        "response = requests.request(\"GET\", url, headers=headers, params=querystring)\n",
        "pe_Legislators_json = response.json()\n",
        "pe_Legislators_dic = dict(pe_Legislators_json)\n",
        "pe_Legislators_df = pd.json_normalize(pe_Legislators_json['data'])\n",
        "pe_Legislators_table = pe_Legislators_df\n",
        "pe_Legislators_dic['pagination']['next_url']\n",
        "url_0 = \"https://goverlytics.p.rapidapi.com/division-legislators/ca/pe?page=\"\n",
        "page_num = 2\n",
        "while pe_Legislators_dic['pagination']['next_url']:\n",
        "    new_url = url_0 + str(page_num)\n",
        "    page_num += 1\n",
        "    response = requests.request(\"GET\", new_url, headers=headers, params=querystring)\n",
        "    pe_Legislators_json = response.json()\n",
        "    pe_Legislators_dic = dict(pe_Legislators_json)\n",
        "    pe_Legislators_df = pd.json_normalize(pe_Legislators_json['data'])\n",
        "    pe_Legislators_table = pe_Legislators_table.append(pe_Legislators_df, ignore_index=True)"
      ],
      "execution_count": null,
      "outputs": []
    },
    {
      "cell_type": "markdown",
      "metadata": {
        "id": "9FUXnLChmY-H"
      },
      "source": [
        "Gender Analysis Across All Provinces"
      ]
    },
    {
      "cell_type": "code",
      "metadata": {
        "id": "2scbrEo4iSUQ"
      },
      "source": [
        "data = {'province':  ['British Columbia', 'British Columbia', 'Ontario', 'Ontario', 'Alberta', 'Alberta', 'Saskatchewan', 'Saskatchewan', 'Quebec', 'Quebec', 'Newfoundland and Labrador', 'Newfoundland and Labrador', 'Manitoba', 'Manitoba', 'New Brunswick', 'New Brunswick', 'Nova Scotia', 'Nova Scotia', 'Prince Edward Island', 'Prince Edward Island'],\n",
        "        'gender': ['M', 'F', 'M', 'F', 'M', 'F', 'M', 'F', 'M', 'F', 'M', 'F', 'M', 'F', 'M', 'F', 'M', 'F', 'M', 'F'],\n",
        "        'Percentage': [57, 42, 60, 38, 70, 28, 70, 27, 55, 44, 72, 18, 71, 26, 68, 26, 45, 28, 73, 26],\n",
        "        'country': ['Canada', 'Canada', 'Canada', 'Canada', 'Canada', 'Canada', 'Canada', 'Canada', 'Canada', 'Canada', 'Canada', 'Canada', 'Canada', 'Canada', 'Canada', 'Canada', 'Canada', 'Canada', 'Canada', 'Canada'],\n",
        "       }\n",
        "new_df = pd.DataFrame(data)\n",
        "\n",
        "fig = px.treemap(new_df, path=['country', 'province', 'gender'],\n",
        "                 values='Percentage',\n",
        "                  color='Percentage',\n",
        "                 color_continuous_scale='RdYlGn'\n",
        "                )\n",
        "fig.update_layout(title=\"Percentage of Males & Females participating in Division Legislation for all provinces of Canada\", width=1000, height=700)\n",
        "fig.data[0].hovertemplate = '%{label}<br>%{value}'\n",
        "fig.show()\n",
        "fig = px.treemap(new_df, path=['country', 'province', 'gender'],\n",
        "                 values='Percentage',\n",
        "                  color='Percentage',\n",
        "                 color_continuous_scale='RdYlGn'\n",
        "                )\n",
        "fig.update_layout(title=\"Percentage of Males & Females participating in Division Legislation for all provinces of Canada\", width=1000, height=700)\n",
        "fig.data[0].hovertemplate = '%{label}<br>%{value}'\n",
        "fig.show()"
      ],
      "execution_count": null,
      "outputs": []
    },
    {
      "cell_type": "markdown",
      "metadata": {
        "id": "J6aPYG3Umh3V"
      },
      "source": [
        "Provinces Participation in Federal Legislation"
      ]
    },
    {
      "cell_type": "code",
      "metadata": {
        "id": "qbM97NCrmpXn"
      },
      "source": [
        "x = fed_Legislation_table.province_territory.value_counts()\n",
        "fig = px.bar(x[:25],title = \"Province Participation in Federal Legislation:\")\n",
        "fig.data[0].hovertemplate = '%{label}<br>%{value}'\n",
        "fig.show()"
      ],
      "execution_count": null,
      "outputs": []
    }
  ]
}
